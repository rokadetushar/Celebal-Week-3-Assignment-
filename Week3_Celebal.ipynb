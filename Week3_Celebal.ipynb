{
  "nbformat": 4,
  "nbformat_minor": 0,
  "metadata": {
    "colab": {
      "name": "Week3:Celebal.ipynb",
      "provenance": [],
      "collapsed_sections": []
    },
    "kernelspec": {
      "name": "python3",
      "display_name": "Python 3"
    },
    "language_info": {
      "name": "python"
    }
  },
  "cells": [
    {
      "cell_type": "markdown",
      "source": [
        "Data Type:\n",
        "1:Numbers"
      ],
      "metadata": {
        "id": "lm5Y8vrURITE"
      }
    },
    {
      "cell_type": "code",
      "execution_count": null,
      "metadata": {
        "colab": {
          "base_uri": "https://localhost:8080/"
        },
        "id": "enDk2WddQ2cz",
        "outputId": "6fae1126-b5fc-45d6-8f04-b39cdb3bfb3f"
      },
      "outputs": [
        {
          "output_type": "stream",
          "name": "stdout",
          "text": [
            "<class 'int'>\n",
            "<class 'float'>\n",
            "(14+4j)\n",
            "<class 'complex'>\n",
            "False\n"
          ]
        }
      ],
      "source": [
        "print(type(12))\n",
        "print(type(4.05))  \n",
        "c = 7 + 4j\n",
        "print(c + 7)\n",
        "print(type(c))\n",
        "a =12\n",
        "print(isinstance(a, complex))"
      ]
    },
    {
      "cell_type": "markdown",
      "source": [
        "Binary,Octal and Hexadecimal numbers"
      ],
      "metadata": {
        "id": "cXIgxcJ2TaKb"
      }
    },
    {
      "cell_type": "code",
      "source": [
        "x = 0b1010     # binary = 0b or 0B\n",
        "y = 0o13  # octal =  0o or 0O\n",
        "z = 0xAB + 0b0101   # Hex = 0x or 0X\n",
        "print(type(x))\n",
        "print(x)\n",
        "print(type(y))\n",
        "print(y)\n",
        "print(type(z))\n",
        "print(z)"
      ],
      "metadata": {
        "colab": {
          "base_uri": "https://localhost:8080/"
        },
        "id": "35H1io2JRrC4",
        "outputId": "0c37a21f-454b-45c3-8cba-fa1f9fdbfe32"
      },
      "execution_count": null,
      "outputs": [
        {
          "output_type": "stream",
          "name": "stdout",
          "text": [
            "<class 'int'>\n",
            "10\n",
            "<class 'int'>\n",
            "11\n",
            "<class 'int'>\n",
            "176\n"
          ]
        }
      ]
    },
    {
      "cell_type": "markdown",
      "source": [
        "2: String\n"
      ],
      "metadata": {
        "id": "esRFQJ02btdH"
      }
    },
    {
      "cell_type": "code",
      "source": [
        "str = 'abcdefghijklm'\n",
        "print(type(str))\n",
        "print(str)\n",
        "print(str[0])\n",
        "print(str[1:])\n",
        "print(str[2:7])\n",
        "print(str[:7])\n",
        "print(str[-1])\n",
        "print(str[5:-1])\n",
        "\n",
        "# print Sentence\n",
        "\n",
        "str = '''So Hello Everybody ,\n",
        "            and welcome to world of Celebal Tech.\n",
        "                                      -xyz'''\n",
        "print(str)\n",
        "\n",
        "\n"
      ],
      "metadata": {
        "colab": {
          "base_uri": "https://localhost:8080/"
        },
        "id": "r1q_r_MJbs7i",
        "outputId": "ac94c0ae-58cd-4219-ca1b-0bdcfaffc812"
      },
      "execution_count": null,
      "outputs": [
        {
          "output_type": "stream",
          "name": "stdout",
          "text": [
            "<class 'str'>\n",
            "abcdefghijklm\n",
            "a\n",
            "bcdefghijklm\n",
            "cdefg\n",
            "abcdefg\n",
            "m\n",
            "fghijkl\n",
            "So Hello Everybody ,\n",
            "            and welcome to world of Celebal Tech.\n",
            "                                      -xyz\n"
          ]
        }
      ]
    },
    {
      "cell_type": "markdown",
      "source": [
        "**Data Structure:**"
      ],
      "metadata": {
        "id": "Zohjh4wfT0Og"
      }
    },
    {
      "cell_type": "markdown",
      "source": [
        "1: List\n"
      ],
      "metadata": {
        "id": "6MvjRd0dT5x6"
      }
    },
    {
      "cell_type": "code",
      "source": [
        "#Empty list\n",
        "L1 = [] \n",
        "print(L1)\n",
        "L2 = ['Tushar', 51, 8.0] \n",
        "print(\"list with mix data type:\",L2)\n",
        "#nested list\n",
        "L3 = [\"Roakade\", [\"Name\",34,\"language\"], [45.6]] \n",
        "print(L3)"
      ],
      "metadata": {
        "colab": {
          "base_uri": "https://localhost:8080/"
        },
        "id": "1OjfOAcDTjOZ",
        "outputId": "7f2d2e94-9600-469a-8552-27331a5dad9e"
      },
      "execution_count": null,
      "outputs": [
        {
          "output_type": "stream",
          "name": "stdout",
          "text": [
            "[]\n",
            "list with mix data type: ['Tushar', 51, 8.0]\n",
            "['Roakade', ['Name', 34, 'language'], [45.6]]\n"
          ]
        }
      ]
    },
    {
      "cell_type": "code",
      "source": [
        "list = ['S','a','n','j','i','v','a','n','i']\n",
        "print(list)\n",
        "print(list[2])\n",
        "print(list[8])\n",
        "print(list[2:5])#slicing\n",
        "print(list[3:])\n",
        "print(list[:7])\n",
        "print(list[2:-1])   #Negative indexing\n",
        "print(list[:-1])\n",
        "print(list[-3])\n",
        "\n",
        "L2 =['Ramesh',[1,2,3,4,5,6,7,7]]\n",
        "print(L2[0][3])\n",
        "print(L2[1][6])\n",
        "\n",
        "L2[1][4]= 12 # changing list\n",
        "print(L2)\n"
      ],
      "metadata": {
        "colab": {
          "base_uri": "https://localhost:8080/"
        },
        "id": "s8zj1Wg8VTmB",
        "outputId": "fb392e73-883e-49fa-c2d2-88783e5b393a"
      },
      "execution_count": null,
      "outputs": [
        {
          "output_type": "stream",
          "name": "stdout",
          "text": [
            "['S', 'a', 'n', 'j', 'i', 'v', 'a', 'n', 'i']\n",
            "n\n",
            "i\n",
            "['n', 'j', 'i']\n",
            "['j', 'i', 'v', 'a', 'n', 'i']\n",
            "['S', 'a', 'n', 'j', 'i', 'v', 'a']\n",
            "['n', 'j', 'i', 'v', 'a', 'n']\n",
            "['S', 'a', 'n', 'j', 'i', 'v', 'a', 'n']\n",
            "a\n",
            "e\n",
            "7\n",
            "['Ramesh', [1, 2, 3, 4, 12, 6, 7, 7]]\n"
          ]
        }
      ]
    },
    {
      "cell_type": "markdown",
      "source": [
        "2: Tuple\n"
      ],
      "metadata": {
        "id": "URFIzkmaYDgC"
      }
    },
    {
      "cell_type": "code",
      "source": [
        "# Empty tuple\n",
        "T = () \n",
        "print(T)\n",
        "T = (1, 2, 3) \n",
        "print(T)\n",
        "T1 = (1, \"TUSHAR\", 9.4) \n",
        "print(T1)\n",
        "# nested tuple\n",
        "T2 = (\"Roakde\", [5,5, 6], (1, 2, 3)) \n",
        "print(T2[2])\n",
        "print(T2[0])\n",
        "print(T2[1][1])\n",
        "print(T2[0][1])\n",
        "print(T2[-1])\n",
        "print(T2[-2][-1])\n",
        "T2[1][0] = [7,8,0]  #  change list in tuple\n",
        "print(T2)\n",
        "\n",
        "\n"
      ],
      "metadata": {
        "colab": {
          "base_uri": "https://localhost:8080/"
        },
        "id": "MybdtpixYBlB",
        "outputId": "ba5db53f-2539-41f8-e182-efbe3fd0139b"
      },
      "execution_count": null,
      "outputs": [
        {
          "output_type": "stream",
          "name": "stdout",
          "text": [
            "()\n",
            "(1, 2, 3)\n",
            "(1, 'TUSHAR', 9.4)\n",
            "(1, 2, 3)\n",
            "Roakde\n",
            "5\n",
            "o\n",
            "(1, 2, 3)\n",
            "6\n",
            "('Roakde', [[7, 8, 0], 5, 6], (1, 2, 3))\n"
          ]
        }
      ]
    },
    {
      "cell_type": "markdown",
      "source": [
        "3: Set"
      ],
      "metadata": {
        "id": "M9rh1NnndZVn"
      }
    },
    {
      "cell_type": "code",
      "source": [
        "#Empty set\n",
        "S =set()\n",
        "print(S)\n",
        "\n",
        "S = {1, 2, 3,3,3,3,3,3,2,2,2,2,1,1,1,1,1}\n",
        "print(S)\n",
        "\n",
        "S1 = {1.0, \"Hello\", (1, 2, 3)}\n",
        "print(S1)\n",
        "\n",
        "# make set from a list using set()\n",
        "S2 = set([1, 2, 3, 2]) \n",
        "print(S2)\n",
        "print(type(S2))\n",
        "\n",
        "# S3 = {1, 2, [3, 4]}\n",
        "# print(S3)\n",
        "\n",
        "S4 = {1, 3}\n",
        "print(S4)\n",
        "# add  element\n",
        "S4.add(2)\n",
        "print(S4)\n",
        "#update\n",
        "S4.update([6,2,4]) #ascending order\n",
        "print(S4)\n",
        "\n",
        "S4.update([4, 5, 6], {1, 6, 8}) \n",
        "print(S4)\n",
        "\n",
        "fset = frozenset(S4)\n",
        "print(fset)"
      ],
      "metadata": {
        "colab": {
          "base_uri": "https://localhost:8080/"
        },
        "id": "lAN9FXeTdYmz",
        "outputId": "0222bad3-7387-4d63-d5de-551bada6c036"
      },
      "execution_count": null,
      "outputs": [
        {
          "output_type": "stream",
          "name": "stdout",
          "text": [
            "set()\n",
            "{1, 2, 3}\n",
            "{1.0, 'Hello', (1, 2, 3)}\n",
            "{1, 2, 3}\n",
            "<class 'set'>\n",
            "{1, 3}\n",
            "{1, 2, 3}\n",
            "{1, 2, 3, 4, 6}\n",
            "{1, 2, 3, 4, 5, 6, 8}\n",
            "frozenset({1, 2, 3, 4, 5, 6, 8})\n"
          ]
        }
      ]
    },
    {
      "cell_type": "markdown",
      "source": [
        "4 : Dictionary"
      ],
      "metadata": {
        "id": "VhIXzSDXxnww"
      }
    },
    {
      "cell_type": "code",
      "source": [
        "# Empty Dictionary\n",
        "dict1 = {}\n",
        "print(dict1)\n",
        "dict1  = {'Name': 'Tushar Roakde' , 'roll no': 51 } \n",
        "print(dict1)\n",
        "\n",
        "dict2 = {'Name': 'Tushar', 1: [2, 4, 3]} \n",
        "print(dict2)\n",
        "\n",
        "dict3 = dict({1:'apple', 2:'ball'}) # using dict()\n",
        "print(dict3)\n",
        "\n",
        "dict4 = dict([(1,'apple'), (2,'ball')]) \n",
        "print(dict4)\n",
        "\n",
        "\n",
        "# get \n",
        "print(dict1.get('Name'))\n",
        "\n",
        "\n",
        "\n",
        "dict = {'name': 'ram', 'age': 26}\n",
        "print(dict)\n",
        "# update value\n",
        "dict['age'] = 27\n",
        "print(dict)\n",
        "\n",
        "# add item\n",
        "dict['address'] = 'shirdi'\n",
        "print(dict)\n",
        "\n",
        "\n",
        "\n"
      ],
      "metadata": {
        "colab": {
          "base_uri": "https://localhost:8080/"
        },
        "id": "repigLR8gAAo",
        "outputId": "829fbeec-b54b-40d1-e10f-e09691c190fc"
      },
      "execution_count": null,
      "outputs": [
        {
          "output_type": "stream",
          "name": "stdout",
          "text": [
            "{}\n",
            "{'Name': 'Tushar Roakde', 'roll no': 51}\n",
            "{'Name': 'Tushar', 1: [2, 4, 3]}\n",
            "{1: 'apple', 2: 'ball'}\n",
            "{1: 'apple', 2: 'ball'}\n",
            "Tushar Roakde\n",
            "{'name': 'ram', 'age': 26}\n",
            "{'name': 'ram', 'age': 27}\n",
            "{'name': 'ram', 'age': 27, 'address': 'shirdi'}\n"
          ]
        }
      ]
    },
    {
      "cell_type": "markdown",
      "source": [
        "Function\n"
      ],
      "metadata": {
        "id": "50bSScKCxjqS"
      }
    },
    {
      "cell_type": "code",
      "source": [
        " #function with parameters\n",
        "def greet(name):\n",
        "    print( f\"\"\"\n",
        "    my name is {name}\n",
        "    I am basically from Rahuri Ahmednagar\n",
        "    but currently stay in Kopargaon\n",
        "    \"\"\")\n",
        "    print(\"Hello, \" + name + \". Good morning!\")\n",
        "greet('Tushar Rokade')    \n",
        "\n",
        "\n",
        "#function without parameters\n",
        "def hello(): \n",
        "  name = input(\"Enter your name: \")  \n",
        "  if name:\n",
        "    print (\"Hello \" + name)\n",
        "  else:\n",
        "    print(\"Hello World\") \n",
        "\n",
        "\n",
        "hello()\n",
        "\n",
        "\n",
        "#  lambda  function\n",
        "double = lambda x: x*2\n",
        "\n",
        "double(5)\n",
        "\n",
        "\n",
        "# sum() lambda function\n",
        "sum1 = lambda x, y: x + y;\n",
        "print(sum1(4,5))"
      ],
      "metadata": {
        "id": "0SzOqIrojvX7",
        "colab": {
          "base_uri": "https://localhost:8080/"
        },
        "outputId": "616e2866-ad41-4292-9199-37e3f54a8edb"
      },
      "execution_count": null,
      "outputs": [
        {
          "output_type": "stream",
          "name": "stdout",
          "text": [
            "\n",
            "   my name is Tushar Rokade\n",
            "   I am basically from Rahuri Ahmednagar\n",
            "   but currently stay in Kopargaon\n",
            "   \n",
            "Hello, Tushar Rokade. Good morning!\n",
            "Enter your name: Tushar\n",
            "Hello Tushar\n",
            "9\n"
          ]
        }
      ]
    }
  ]
}